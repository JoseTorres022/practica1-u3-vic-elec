{
 "cells": [
  {
   "cell_type": "markdown",
   "id": "e1460a1c",
   "metadata": {},
   "source": [
    "## 1. Contexto"
   ]
  },
  {
   "cell_type": "markdown",
   "id": "e80deb73",
   "metadata": {},
   "source": [
    "## 2. El set de datos después de la limpieza\n",
    "La información recolectada se encuentra en un archivo CSV (vic_elec_125256_clean_data.csv) con 515 filas y 5 columnas."
   ]
  },
  {
   "cell_type": "markdown",
   "id": "051fd91d",
   "metadata": {},
   "source": [
    "## 3. Lectura del Dataset"
   ]
  },
  {
   "cell_type": "code",
   "execution_count": null,
   "id": "f84b0ec8",
   "metadata": {},
   "outputs": [],
   "source": [
    "# Importar librerias/modulos\n",
    "import pandas as pd\n",
    "import matplotlib.pyplot as plt\n",
    "import seaborn as sns"
   ]
  },
  {
   "cell_type": "code",
   "execution_count": null,
   "id": "38da2284",
   "metadata": {},
   "outputs": [],
   "source": [
    "# Lecturas\n",
    "ruta=\"../results/vic_elec_125256_clean_data.csv\"\n",
    "data=pd.read_csv(ruta)"
   ]
  },
  {
   "cell_type": "code",
   "execution_count": null,
   "id": "d1f44acb",
   "metadata": {},
   "outputs": [],
   "source": [
    "#Imprimmir el dataset\n",
    "print(data.shape)\n",
    "data.head()"
   ]
  },
  {
   "cell_type": "markdown",
   "id": "4f11b24b",
   "metadata": {},
   "source": [
    "## 4. Análisis exploratorio\n",
    "La idea es usar herramientas estadísticas y de visualización para:\n",
    "    1. Crear un mapa mental del dataset (entenderlo).\n",
    "    2. Empezar a encontrar respuestas a las cuestiones dependiendo del contexto del análsis.\n",
    "\n",
    "Se llevara a cabo estas fases:\n",
    "    1. Análisis de cada variable de manera individual.\n",
    "    2. Análisis univariado: relación de cada variable predictoria con la variable a predecir.\n",
    "    3. Análisis bivariada: relación de pares de variables predictorias con la variable a predecir."
   ]
  },
  {
   "cell_type": "markdown",
   "id": "d4467293",
   "metadata": {},
   "source": [
    "## 4.1 Análsis de cada variable de manera individual\n",
    "Nos permite entender las caracteristicas generales de cada variable del dataset."
   ]
  },
  {
   "cell_type": "code",
   "execution_count": null,
   "id": "daaed1ee",
   "metadata": {},
   "outputs": [],
   "source": [
    "#Con data.info() se pueden ver las variables categoricas\n",
    "#(Dtype=object)\n",
    "data.info()"
   ]
  },
  {
   "cell_type": "code",
   "execution_count": null,
   "id": "786f38d1",
   "metadata": {},
   "outputs": [],
   "source": [
    "#Tomamos las variables categoricas y creamos graficos, para comprender mejor los datos,\n",
    "#creamos grficos de barras\n",
    "\n",
    "columnas_categorias=['Time', 'Date']\n",
    "\n",
    "#Graficos de barras de conteo\n",
    "fig, ax=plt.subplots(nrows=len(columnas_categorias),ncols=1, figsize=(100,30))\n",
    "fig.subplots_adjust(hspace=0.5)\n",
    "\n",
    "for i, col in enumerate(columnas_categorias):\n",
    "    sns.countplot(x=col, data=data, ax=ax[i])\n",
    "    ax[i].set_title(col)\n",
    "    ax[i].set_xticklabels(ax[i].get_xticklabels(),rotation=90)"
   ]
  },
  {
   "cell_type": "code",
   "execution_count": null,
   "id": "22f41edb",
   "metadata": {},
   "outputs": [],
   "source": [
    "#Extraemos variables estadisticas descriptivas basicas\n",
    "data.describe()"
   ]
  },
  {
   "cell_type": "code",
   "execution_count": null,
   "id": "350ed720",
   "metadata": {},
   "outputs": [],
   "source": [
    "#Es mejor graficas los datos, para comprender mejor la informacion\n",
    "#Dibujamos los histogramas\n",
    "\n",
    "columnas_numericas=['Demand','Temperature']\n",
    "\n",
    "fig, ax=plt.subplots(nrows=1,ncols=2, figsize=(15,5))\n",
    "fig.subplots_adjust(hspace=0.5)\n",
    "\n",
    "for i, col in enumerate(columnas_numericas):\n",
    "    sns.histplot(x=col,data=data,ax=ax[i], kde=True)\n",
    "    ax[i].set_title(col)"
   ]
  },
  {
   "cell_type": "code",
   "execution_count": null,
   "id": "d35a510e",
   "metadata": {},
   "outputs": [],
   "source": [
    "#Podemos ver a detalle que ocurre con Demand y Temperature\n",
    "data['Demand'].describe()"
   ]
  },
  {
   "cell_type": "code",
   "execution_count": null,
   "id": "01c2e078",
   "metadata": {},
   "outputs": [],
   "source": [
    "#Podemos ver a detalle que ocurre con Demand y Temperature\n",
    "data['Temperature'].describe()"
   ]
  }
 ],
 "metadata": {
  "kernelspec": {
   "display_name": "practica1U3",
   "language": "python",
   "name": "python3"
  },
  "language_info": {
   "codemirror_mode": {
    "name": "ipython",
    "version": 3
   },
   "file_extension": ".py",
   "mimetype": "text/x-python",
   "name": "python",
   "nbconvert_exporter": "python",
   "pygments_lexer": "ipython3",
   "version": "3.12.0"
  }
 },
 "nbformat": 4,
 "nbformat_minor": 5
}
