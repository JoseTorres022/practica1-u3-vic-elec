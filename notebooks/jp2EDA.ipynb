{
 "cells": [
  {
   "cell_type": "markdown",
   "id": "e1460a1c",
   "metadata": {},
   "source": [
    "## 1. Contexto"
   ]
  },
  {
   "cell_type": "markdown",
   "id": "e80deb73",
   "metadata": {},
   "source": [
    "## 2. El set de datos después de la limpieza\n",
    "La información recolectada se encuentra en un archivo CSV (vic_elec_125256_clean_data.csv) con 515 filas y 5 columnas."
   ]
  },
  {
   "cell_type": "markdown",
   "id": "051fd91d",
   "metadata": {},
   "source": [
    "## 3. Lectura del Dataset"
   ]
  },
  {
   "cell_type": "code",
   "execution_count": null,
   "id": "f84b0ec8",
   "metadata": {},
   "outputs": [],
   "source": [
    "# Importar librerias/modulos\n",
    "import pandas as pd\n",
    "import matplotlib.pyplot as plt\n",
    "import seaborn as sns"
   ]
  },
  {
   "cell_type": "code",
   "execution_count": null,
   "id": "38da2284",
   "metadata": {},
   "outputs": [],
   "source": [
    "# Lecturas\n",
    "ruta=\"../results/vic_elec_125256_clean_data.csv\"\n",
    "data=pd.read_csv(ruta)"
   ]
  },
  {
   "cell_type": "code",
   "execution_count": null,
   "id": "d1f44acb",
   "metadata": {},
   "outputs": [],
   "source": [
    "#Imprimmir el dataset\n",
    "print(data.shape)\n",
    "data.head()"
   ]
  },
  {
   "cell_type": "markdown",
   "id": "4f11b24b",
   "metadata": {},
   "source": [
    "## 4. Análisis exploratorio\n",
    "La idea es usar herramientas estadísticas y de visualización para:\n",
    "    1. Crear un mapa mental del dataset (entenderlo).\n",
    "    2. Empezar a encontrar respuestas a las cuestiones dependiendo del contexto del análsis.\n",
    "\n",
    "Se llevara a cabo estas fases:\n",
    "    1. Análisis de cada variable de manera individual.\n",
    "    2. Análisis univariado: relación de cada variable predictoria con la variable a predecir.\n",
    "    3. Análisis bivariada: relación de pares de variables predictorias con la variable a predecir."
   ]
  },
  {
   "cell_type": "markdown",
   "id": "d4467293",
   "metadata": {},
   "source": [
    "## 4.1 Análsis de cada variable de manera individual"
   ]
  },
  {
   "cell_type": "code",
   "execution_count": null,
   "id": "daaed1ee",
   "metadata": {},
   "outputs": [],
   "source": []
  }
 ],
 "metadata": {
  "kernelspec": {
   "display_name": "practica1U3",
   "language": "python",
   "name": "python3"
  },
  "language_info": {
   "codemirror_mode": {
    "name": "ipython",
    "version": 3
   },
   "file_extension": ".py",
   "mimetype": "text/x-python",
   "name": "python",
   "nbconvert_exporter": "python",
   "pygments_lexer": "ipython3",
   "version": "3.12.0"
  }
 },
 "nbformat": 4,
 "nbformat_minor": 5
}
