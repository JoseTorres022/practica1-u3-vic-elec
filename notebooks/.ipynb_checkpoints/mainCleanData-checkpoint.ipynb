{
 "cells": [
  {
   "cell_type": "markdown",
   "metadata": {},
   "source": [
    "## 1. Contexto del análisis"
   ]
  },
  {
   "cell_type": "markdown",
   "metadata": {},
   "source": [
    "## 2. El set de datos\n",
    "La informacion recolectada se encuantra en un archivo CSV (vic_elec_125256) con 54688 filas y 5 columnas"
   ]
  },
  {
   "cell_type": "code",
   "execution_count": null,
   "metadata": {},
   "outputs": [],
   "source": [
    "# 3. Primera mirada al dataset\n",
    "# Importamos librerias/modulos para EDA\n",
    "import pandas as pd\n",
    "import matplotlib.pyplot as plt\n",
    "import seaborn as sns\n",
    "\n",
    "#Importar el script de python\n",
    "#miscript=\"../scripts/miapp.py\"\n",
    "#import sys\n",
    "#sys.path.insert(0, '../myscripts/')\n",
    "\n",
    "#import miap"
   ]
  },
  {
   "cell_type": "code",
   "execution_count": null,
   "metadata": {},
   "outputs": [],
   "source": [
    "# Leyendo el CSV\n",
    "ruta = \"../src/data/vic_elec_125256.csv\"\n",
    "data = pd.read_csv(ruta)"
   ]
  },
  {
   "cell_type": "code",
   "execution_count": null,
   "metadata": {},
   "outputs": [],
   "source": [
    "# Mostrar el dataset\n",
    "print(data.shape)\n",
    "data.head()"
   ]
  },
  {
   "cell_type": "code",
   "execution_count": null,
   "metadata": {},
   "outputs": [],
   "source": [
    "# Veamos las varialbes categoricas y las numericas\n",
    "data.info()"
   ]
  },
  {
   "cell_type": "markdown",
   "metadata": {},
   "source": [
    "## 4. Limpieza del dataset\n",
    "Se realizara el proceso de limpieza teniendo encuanta las situaciones comunes:\n",
    "1. Datos faltantes en algunas celdas.\n",
    "2. Columnas irrelevantes (ques no corresponden al problema que queremos resolver)\n",
    "3. Registros (filas) repetidos.\n",
    "4. Valores extremos (outliers) en el caso de las variables numericas. Se deben\n",
    "analizar en detalle pues no necesariamente la soulucion es eliminarlos.\n",
    "5. Errore tipograficos en el caso de las variabe categoriccas.\n",
    "\n",
    "Se supone que, al final de este proceso de limpieza deberiamos tener un set de datos\n",
    "integro, listo para la fase de Análisis Exploratorio."
   ]
  },
  {
   "cell_type": "markdown",
   "metadata": {},
   "source": [
    "## 4.1 Datos faltantes\n",
    "Aca comenzaremos viendo los datos que no esten comletos,\n",
    "pues no todas las columnas tienen la misma cantidad de registros.\n",
    "El numero totoal de registrs deberia ser 54,688."
   ]
  },
  {
   "cell_type": "markdown",
   "metadata": {},
   "source": [
    "## 4.2 Columnas irrelevantes\n",
    "Una columnas irrelenvante contiene:\n",
    "1. No contienen informcion relevante para el problema que queremos resolver.\n",
    "2. Una columnas categoria pero con un solo nivel.\n",
    "3. Una columna numerica pero con un solo valor.\n",
    "4. Columnas con informacion redundante.\n",
    "\n",
    "Pero si se tiene dudas sobre una columnas puede ser relevante o no, lo mejor es dejarla,\n",
    "y mas adelante en las sigueintes etapas, podremos darnos cuenta de si se preserva o no."
   ]
  },
  {
   "cell_type": "markdown",
   "metadata": {},
   "source": [
    "Todas las columnas categoricas, tiene mas de un subnivel.\n",
    "Lo cual no se elemina ninguna."
   ]
  },
  {
   "cell_type": "code",
   "execution_count": null,
   "metadata": {},
   "outputs": [],
   "source": [
    "# Veamos que ocurren con las columnas numericas\n",
    "data.describe()"
   ]
  },
  {
   "cell_type": "markdown",
   "metadata": {},
   "source": [
    "Como se muestra, solo hay dos columnas que tienen desviaciones estandar (std)\n",
    "diferentes de cero, lo que indica que no tiene un unico valor."
   ]
  },
  {
   "cell_type": "code",
   "execution_count": null,
   "metadata": {},
   "outputs": [],
   "source": [
    "# 4.3 Filas repetidas\n",
    "print(f'Volumen del dataset antes de eliminar filas repetidas: {data.shape}')\n",
    "data.drop_duplicates(inplace=True)\n",
    "print(f'Volumen del dataset despues de eliminar filas repetidas: {data.shape}')"
   ]
  },
  {
   "cell_type": "markdown",
   "metadata": {},
   "source": [
    "## 4.4 Outliers (valres extremos) en las variable numericas\n",
    "No siempre se eliminan los Outliers porque dependiendo de la variable numerica\n",
    "analizada, estos pueden contener informacion importante.\n",
    "\n",
    "Crearemos graficas tipo \"boxplot\" de las columnas numericas:"
   ]
  },
  {
   "cell_type": "code",
   "execution_count": null,
   "metadata": {},
   "outputs": [],
   "source": [
    "# Generarndo graficos individuales pues las varaible numericas\n",
    "# estan en rangos diferentes\n",
    "\n",
    "columnas_numericas = ['Demand', 'Temperature']\n",
    "\n",
    "fig, ax = plt.subplots(nrows=7, ncols=1, figsize=(8, 30))\n",
    "fig.subplots_adjust(hspace=0.5)\n",
    "\n",
    "for i, col in enumerate(columnas_numericas):\n",
    "    sns.boxplot(x=col, data=data, ax=ax[i])\n",
    "    ax[i].set_title(col)"
   ]
  },
  {
   "cell_type": "markdown",
   "metadata": {},
   "source": [
    "Observaciones:\n",
    "1. \"Demand\": hay valores con extremos a los 7000\n",
    "2. \"Temperature\": hay valores con extremos a los 30"
   ]
  },
  {
   "cell_type": "code",
   "execution_count": null,
   "metadata": {},
   "outputs": [],
   "source": [
    "# Eliminar filas con \"Demand\" > 7000\n",
    "print(f'Eliminando filas de Demand: \\nVolumen del dataset antes de elimnar regristros de Demand: {data.shape}')\n",
    "data = data[data['Demand'] >= 7000]\n",
    "print(f'Volumen del dataset despues de elimnar regristros de Demand: {data.shape}\\n')\n",
    "\n",
    "# Eliminar filas con \"Temperature\" >30\n",
    "print(f'Eliminando filas de Temperature: \\nVolumen del dataset antes de elimnar regristros de Temperature: {data.shape}')\n",
    "data = data[data['Temperature'] >= 25]\n",
    "print(f'Volumen del dataset despues de elimnar regristros de Temperature: {data.shape}\\n')"
   ]
  },
  {
   "cell_type": "markdown",
   "metadata": {},
   "source": [
    "## 4.5 Errores tipograficos en variable categoricas\n",
    "En una variable categorica pueden aparecer subniveles como abreviatures\n",
    "y palabras compretas, por ejemplo, \"pag\" y \"paginas\", lo cual para nosotros\n",
    "son equivalentes, pero que a nuestro programa parerian diferentes.\n",
    "\n",
    "Estos sub-niveles, deberian unificarse. Para este caso las caregorias, son unicas,\n",
    "por lo cual no hay que unificarlos"
   ]
  },
  {
   "cell_type": "code",
   "execution_count": null,
   "metadata": {},
   "outputs": [],
   "source": [
    "# Graficamos los subnivles de cada variable categorica\n",
    "columnas_categoricas = ['Time', 'Demand', 'Temperature', 'Date', 'Holiday']\n",
    "\n",
    "fig, ax = plt.subplots(nrows=5, ncols=1, figsize=(100, 40))\n",
    "fig.subplots_adjust(hspace=1)\n",
    "\n",
    "for i, col in enumerate(columnas_categoricas):\n",
    "    sns.countplot(x=col, data=data, ax=ax[i])\n",
    "    ax[i].set_title(col)\n",
    "    ax[i].set_xticklabels(ax[i].get_xticklabels(), rotation=90)"
   ]
  },
  {
   "cell_type": "markdown",
   "metadata": {},
   "source": [
    "## 4.6 Exportando resultados"
   ]
  },
  {
   "cell_type": "markdown",
   "metadata": {},
   "source": [
    "Listo, ya se ha completado la fase de limpieza del set de datos. Originalmente tenia un volumen de 54688 filas y 5 columnas. Y termino con 515 filas y 5 columnas.\n",
    "\n",
    "El set de datos ya esta listo para el Análisis Exploratorio"
   ]
  },
  {
   "cell_type": "code",
   "execution_count": null,
   "metadata": {},
   "outputs": [],
   "source": [
    "#from datetime import datetime\n",
    "#hoy=datetime.now()\n",
    "ruta=\"../results/vic_elec_125256_clean_data.csv\"\n",
    "data.to_csv(ruta, index=False)"
   ]
  }
 ],
 "metadata": {
  "kernelspec": {
   "display_name": "practica1U3",
   "language": "python",
   "name": "python3"
  },
  "language_info": {
   "codemirror_mode": {
    "name": "ipython",
    "version": 3
   },
   "file_extension": ".py",
   "mimetype": "text/x-python",
   "name": "python",
   "nbconvert_exporter": "python",
   "pygments_lexer": "ipython3",
   "version": "3.12.0"
  }
 },
 "nbformat": 4,
 "nbformat_minor": 2
}
