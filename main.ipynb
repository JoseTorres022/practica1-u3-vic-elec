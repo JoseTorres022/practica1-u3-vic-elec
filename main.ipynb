{
 "cells": [
  {
   "cell_type": "code",
   "execution_count": 53,
   "metadata": {},
   "outputs": [],
   "source": [
    "#1. Contexto del análisis"
   ]
  },
  {
   "cell_type": "code",
   "execution_count": 54,
   "metadata": {},
   "outputs": [
    {
     "data": {
      "text/plain": [
       "'La informacion recolectada se encuantra en un archivo CSV\\n(vic_elec_125256) con 54688 filas y 5 columnas'"
      ]
     },
     "execution_count": 54,
     "metadata": {},
     "output_type": "execute_result"
    }
   ],
   "source": [
    "#2. El set de datps\n",
    "'''La informacion recolectada se encuantra en un archivo CSV\n",
    "(vic_elec_125256) con 54688 filas y 5 columnas'''"
   ]
  },
  {
   "cell_type": "code",
   "execution_count": 55,
   "metadata": {},
   "outputs": [],
   "source": [
    "#3. Primera mirada al dataset\n",
    "# Importamos librerias/modulos para EDA\n",
    "import pandas as pd\n",
    "import matplotlib.pyplot as plt\n",
    "import seaborn as sns"
   ]
  },
  {
   "cell_type": "code",
   "execution_count": 56,
   "metadata": {},
   "outputs": [],
   "source": [
    "#Leyendo el CSV\n",
    "ruta=\"./src/docs/vic_elec_125256.csv\"\n",
    "data=pd.read_csv(ruta)"
   ]
  },
  {
   "cell_type": "code",
   "execution_count": 57,
   "metadata": {},
   "outputs": [
    {
     "name": "stdout",
     "output_type": "stream",
     "text": [
      "(52608, 5)\n"
     ]
    },
    {
     "data": {
      "text/html": [
       "<div>\n",
       "<style scoped>\n",
       "    .dataframe tbody tr th:only-of-type {\n",
       "        vertical-align: middle;\n",
       "    }\n",
       "\n",
       "    .dataframe tbody tr th {\n",
       "        vertical-align: top;\n",
       "    }\n",
       "\n",
       "    .dataframe thead th {\n",
       "        text-align: right;\n",
       "    }\n",
       "</style>\n",
       "<table border=\"1\" class=\"dataframe\">\n",
       "  <thead>\n",
       "    <tr style=\"text-align: right;\">\n",
       "      <th></th>\n",
       "      <th>Time</th>\n",
       "      <th>Demand</th>\n",
       "      <th>Temperature</th>\n",
       "      <th>Date</th>\n",
       "      <th>Holiday</th>\n",
       "    </tr>\n",
       "  </thead>\n",
       "  <tbody>\n",
       "    <tr>\n",
       "      <th>0</th>\n",
       "      <td>2011-12-31T13:00:00Z</td>\n",
       "      <td>4382.825174</td>\n",
       "      <td>21.40</td>\n",
       "      <td>2012-01-01</td>\n",
       "      <td>True</td>\n",
       "    </tr>\n",
       "    <tr>\n",
       "      <th>1</th>\n",
       "      <td>2011-12-31T13:30:00Z</td>\n",
       "      <td>4263.365526</td>\n",
       "      <td>21.05</td>\n",
       "      <td>2012-01-01</td>\n",
       "      <td>True</td>\n",
       "    </tr>\n",
       "    <tr>\n",
       "      <th>2</th>\n",
       "      <td>2011-12-31T14:00:00Z</td>\n",
       "      <td>4048.966046</td>\n",
       "      <td>20.70</td>\n",
       "      <td>2012-01-01</td>\n",
       "      <td>True</td>\n",
       "    </tr>\n",
       "    <tr>\n",
       "      <th>3</th>\n",
       "      <td>2011-12-31T14:30:00Z</td>\n",
       "      <td>3877.563330</td>\n",
       "      <td>20.55</td>\n",
       "      <td>2012-01-01</td>\n",
       "      <td>True</td>\n",
       "    </tr>\n",
       "    <tr>\n",
       "      <th>4</th>\n",
       "      <td>2011-12-31T15:00:00Z</td>\n",
       "      <td>4036.229746</td>\n",
       "      <td>20.40</td>\n",
       "      <td>2012-01-01</td>\n",
       "      <td>True</td>\n",
       "    </tr>\n",
       "  </tbody>\n",
       "</table>\n",
       "</div>"
      ],
      "text/plain": [
       "                   Time       Demand  Temperature        Date  Holiday\n",
       "0  2011-12-31T13:00:00Z  4382.825174        21.40  2012-01-01     True\n",
       "1  2011-12-31T13:30:00Z  4263.365526        21.05  2012-01-01     True\n",
       "2  2011-12-31T14:00:00Z  4048.966046        20.70  2012-01-01     True\n",
       "3  2011-12-31T14:30:00Z  3877.563330        20.55  2012-01-01     True\n",
       "4  2011-12-31T15:00:00Z  4036.229746        20.40  2012-01-01     True"
      ]
     },
     "execution_count": 57,
     "metadata": {},
     "output_type": "execute_result"
    }
   ],
   "source": [
    "#Mostrar el dataset\n",
    "print(data.shape)\n",
    "data.head()"
   ]
  },
  {
   "cell_type": "code",
   "execution_count": 58,
   "metadata": {},
   "outputs": [
    {
     "name": "stdout",
     "output_type": "stream",
     "text": [
      "<class 'pandas.core.frame.DataFrame'>\n",
      "RangeIndex: 52608 entries, 0 to 52607\n",
      "Data columns (total 5 columns):\n",
      " #   Column       Non-Null Count  Dtype  \n",
      "---  ------       --------------  -----  \n",
      " 0   Time         52608 non-null  object \n",
      " 1   Demand       52608 non-null  float64\n",
      " 2   Temperature  52608 non-null  float64\n",
      " 3   Date         52608 non-null  object \n",
      " 4   Holiday      52608 non-null  bool   \n",
      "dtypes: bool(1), float64(2), object(2)\n",
      "memory usage: 1.7+ MB\n"
     ]
    }
   ],
   "source": [
    "#Veamos las varialbes categoricas y las numericas\n",
    "data.info()"
   ]
  },
  {
   "cell_type": "code",
   "execution_count": 59,
   "metadata": {},
   "outputs": [
    {
     "data": {
      "text/plain": [
       "'Se realizara el proceso de limpieza teniendo encuanta las situaciones comunes:\\n1. Datos faltantes en algunas celdas.\\n2. Columnas irrelevantes (ques no corresponden al problema que queremos resolver)\\n3. Registros (filas) repetidos.\\n4. Valores extremos (outliers) en el caso de las variables numericas. Se deben\\nanalizar en detalle pues no necesariamente la soulucion es eliminarlos.\\n5. Errore tipograficos en el caso de las variabe categoriccas.\\n\\nSe supone que, al final de este proceso de limpieza deberiamos tener un set de datos\\nintegro, listo para la fase de Análisis Exploratorio.\\n'"
      ]
     },
     "execution_count": 59,
     "metadata": {},
     "output_type": "execute_result"
    }
   ],
   "source": [
    "#4. Limpieza del dataset\n",
    "'''Se realizara el proceso de limpieza teniendo encuanta las situaciones comunes:\n",
    "1. Datos faltantes en algunas celdas.\n",
    "2. Columnas irrelevantes (ques no corresponden al problema que queremos resolver)\n",
    "3. Registros (filas) repetidos.\n",
    "4. Valores extremos (outliers) en el caso de las variables numericas. Se deben\n",
    "analizar en detalle pues no necesariamente la soulucion es eliminarlos.\n",
    "5. Errore tipograficos en el caso de las variabe categoriccas.\n",
    "\n",
    "Se supone que, al final de este proceso de limpieza deberiamos tener un set de datos\n",
    "integro, listo para la fase de Análisis Exploratorio.\n",
    "'''"
   ]
  },
  {
   "cell_type": "code",
   "execution_count": 60,
   "metadata": {},
   "outputs": [
    {
     "name": "stdout",
     "output_type": "stream",
     "text": [
      "<class 'pandas.core.frame.DataFrame'>\n",
      "RangeIndex: 52608 entries, 0 to 52607\n",
      "Data columns (total 5 columns):\n",
      " #   Column       Non-Null Count  Dtype  \n",
      "---  ------       --------------  -----  \n",
      " 0   Time         52608 non-null  object \n",
      " 1   Demand       52608 non-null  float64\n",
      " 2   Temperature  52608 non-null  float64\n",
      " 3   Date         52608 non-null  object \n",
      " 4   Holiday      52608 non-null  bool   \n",
      "dtypes: bool(1), float64(2), object(2)\n",
      "memory usage: 1.7+ MB\n"
     ]
    }
   ],
   "source": [
    "#4.1 Datos faltantes\n",
    "'''Aca comenzaremos viendo los datos que no esten comletos,\n",
    "pues no todas las columnas tienen la misma cantidad de registros.\n",
    "El numero totoal de registrs deberia ser 54,688.\n",
    "'''\n",
    "\n",
    "#Eliminar filas con celdas faltantes/vacias\n",
    "data.dropna(inplace=True)\n",
    "data.info()"
   ]
  },
  {
   "cell_type": "code",
   "execution_count": 61,
   "metadata": {},
   "outputs": [
    {
     "name": "stdout",
     "output_type": "stream",
     "text": [
      "Columna Time: 52608 subniveles\n",
      "Columna Demand: 52606 subniveles\n",
      "Columna Temperature: 711 subniveles\n",
      "Columna Date: 1096 subniveles\n",
      "Columna Holiday: 2 subniveles\n"
     ]
    }
   ],
   "source": [
    "#4.2 Columnas irrelevantes\n",
    "'''Una columnas irrelenvante contiene:\n",
    "1. No contienen informcion relevante para el problema que queremos resolver.\n",
    "2. Una columnas categoria pero con un solo nivel.\n",
    "3. Una columna numerica pero con un solo valor.\n",
    "4. Columnas con informacion redundante.\n",
    "\n",
    "Pero si se tiene dudas sobre una columnas puede ser relevante o no, lo mejor es dejarla,\n",
    "y mas adelante en las sigueintes etapas, podremos darnos cuenta de si se preserva o no.\n",
    "'''\n",
    "\n",
    "#Conteo de los nievles en las diferentes columnas categoricas.\n",
    "columnas_categoricas =['Time','Demand','Temperature','Date','Holiday']\n",
    "\n",
    "for columna in columnas_categoricas:\n",
    "    print(f'Columna {columna}: {data[columna].nunique()} subniveles')"
   ]
  },
  {
   "cell_type": "code",
   "execution_count": 62,
   "metadata": {},
   "outputs": [
    {
     "data": {
      "text/html": [
       "<div>\n",
       "<style scoped>\n",
       "    .dataframe tbody tr th:only-of-type {\n",
       "        vertical-align: middle;\n",
       "    }\n",
       "\n",
       "    .dataframe tbody tr th {\n",
       "        vertical-align: top;\n",
       "    }\n",
       "\n",
       "    .dataframe thead th {\n",
       "        text-align: right;\n",
       "    }\n",
       "</style>\n",
       "<table border=\"1\" class=\"dataframe\">\n",
       "  <thead>\n",
       "    <tr style=\"text-align: right;\">\n",
       "      <th></th>\n",
       "      <th>Demand</th>\n",
       "      <th>Temperature</th>\n",
       "    </tr>\n",
       "  </thead>\n",
       "  <tbody>\n",
       "    <tr>\n",
       "      <th>count</th>\n",
       "      <td>52608.000000</td>\n",
       "      <td>52608.000000</td>\n",
       "    </tr>\n",
       "    <tr>\n",
       "      <th>mean</th>\n",
       "      <td>4665.432826</td>\n",
       "      <td>16.265071</td>\n",
       "    </tr>\n",
       "    <tr>\n",
       "      <th>std</th>\n",
       "      <td>874.273645</td>\n",
       "      <td>5.658849</td>\n",
       "    </tr>\n",
       "    <tr>\n",
       "      <th>min</th>\n",
       "      <td>2857.945728</td>\n",
       "      <td>1.500000</td>\n",
       "    </tr>\n",
       "    <tr>\n",
       "      <th>25%</th>\n",
       "      <td>3969.464472</td>\n",
       "      <td>12.300000</td>\n",
       "    </tr>\n",
       "    <tr>\n",
       "      <th>50%</th>\n",
       "      <td>4634.706032</td>\n",
       "      <td>15.400000</td>\n",
       "    </tr>\n",
       "    <tr>\n",
       "      <th>75%</th>\n",
       "      <td>5244.325424</td>\n",
       "      <td>19.400000</td>\n",
       "    </tr>\n",
       "    <tr>\n",
       "      <th>max</th>\n",
       "      <td>9345.004346</td>\n",
       "      <td>43.200000</td>\n",
       "    </tr>\n",
       "  </tbody>\n",
       "</table>\n",
       "</div>"
      ],
      "text/plain": [
       "             Demand   Temperature\n",
       "count  52608.000000  52608.000000\n",
       "mean    4665.432826     16.265071\n",
       "std      874.273645      5.658849\n",
       "min     2857.945728      1.500000\n",
       "25%     3969.464472     12.300000\n",
       "50%     4634.706032     15.400000\n",
       "75%     5244.325424     19.400000\n",
       "max     9345.004346     43.200000"
      ]
     },
     "execution_count": 62,
     "metadata": {},
     "output_type": "execute_result"
    }
   ],
   "source": [
    "'''Todas las columnas categoricas, tiene mas de un subnivel.\n",
    "Lo cual no se elemina ninguna.\n",
    "'''\n",
    "\n",
    "#Veamos que ocurren con las columnas numericas\n",
    "data.describe()"
   ]
  },
  {
   "cell_type": "code",
   "execution_count": 63,
   "metadata": {},
   "outputs": [
    {
     "data": {
      "text/plain": [
       "'Como se muestra, solo hay dos columnas que tienen desviaciones estandar (std)\\ndiferentes de cero, lo que indica que no tiene un unico valor.\\n'"
      ]
     },
     "execution_count": 63,
     "metadata": {},
     "output_type": "execute_result"
    }
   ],
   "source": [
    "'''Como se muestra, solo hay dos columnas que tienen desviaciones estandar (std)\n",
    "diferentes de cero, lo que indica que no tiene un unico valor.\n",
    "'''"
   ]
  },
  {
   "cell_type": "code",
   "execution_count": 64,
   "metadata": {},
   "outputs": [
    {
     "name": "stdout",
     "output_type": "stream",
     "text": [
      "Volumen del dataset antes de eliminar filas repetidas: (52608, 5)\n",
      "Volumen del dataset despues de eliminar filas repetidas: (52608, 5)\n"
     ]
    }
   ],
   "source": [
    "#4.3 Filas repetidas\n",
    "print(f'Volumen del dataset antes de eliminar filas repetidas: {data.shape}')\n",
    "data.drop_duplicates(inplace=True)\n",
    "print(f'Volumen del dataset despues de eliminar filas repetidas: {data.shape}')"
   ]
  },
  {
   "cell_type": "code",
   "execution_count": 65,
   "metadata": {},
   "outputs": [
    {
     "data": {
      "image/png": "[encoded data removed]",
      "text/plain": [
       "<Figure size 800x3000 with 7 Axes>"
      ]
     },
     "metadata": {},
     "output_type": "display_data"
    }
   ],
   "source": [
    "#4.4 Outliers (valres extremos) en las variable numericas\n",
    "'''No siempre se eliminan los Outliers porque dependiendo de la variable numerica\n",
    "analizada, estos pueden contener informacion importante.\n",
    "\n",
    "Crearemos graficas tipo \"boxplot\" de las columnas numericas:\n",
    "'''\n",
    "\n",
    "#Generarndo graficos individuales pues las varaible numericas\n",
    "#estan en rangos diferentes\n",
    "\n",
    "columnas_numericas=['Demand', 'Temperature']\n",
    "\n",
    "fig, ax=plt.subplots(nrows=7, ncols=1, figsize=(8,30))\n",
    "fig.subplots_adjust(hspace=0.5)\n",
    "\n",
    "for i, col in enumerate(columnas_numericas):\n",
    "    sns.boxplot(x=col, data=data, ax=ax[i])\n",
    "    ax[i].set_title(col)"
   ]
  },
  {
   "cell_type": "code",
   "execution_count": 66,
   "metadata": {},
   "outputs": [
    {
     "name": "stdout",
     "output_type": "stream",
     "text": [
      "Eliminando filas de Demand:\n",
      "Volumen del dataset antes de elimnar regristros de Demand: (52608, 5)\n",
      "Volumen del dataset despues de elimnar regristros de Demand: (518, 5)\n",
      "\n",
      "Eliminando filas de Temperature:\n",
      "Volumen del dataset antes de elimnar regristros de Temperature: (518, 5)\n",
      "Volumen del dataset despues de elimnar regristros de Temperature: (515, 5)\n",
      "\n"
     ]
    }
   ],
   "source": [
    "'''Observaciones:\n",
    "1. \"Demand\": hay valores con extremos a los 7000\n",
    "2. \"Temperature\": hay valores con extremos a los 30 \n",
    "'''\n",
    "\n",
    "#Eliminar filas con \"Demand\" > 7000\n",
    "print(f'Eliminando filas de Demand:\\nVolumen del dataset antes de elimnar regristros de Demand: {data.shape}')\n",
    "data=data[data['Demand']>=7000]\n",
    "print(f'Volumen del dataset despues de elimnar regristros de Demand: {data.shape}\\n')\n",
    "\n",
    "#Eliminar filas con \"Temperature\" >30\n",
    "print(f'Eliminando filas de Temperature:\\nVolumen del dataset antes de elimnar regristros de Temperature: {data.shape}')\n",
    "data=data[data['Temperature']>=25]\n",
    "print(f'Volumen del dataset despues de elimnar regristros de Temperature: {data.shape}\\n')\n"
   ]
  }
 ],
 "metadata": {
  "kernelspec": {
   "display_name": "practica1U3",
   "language": "python",
   "name": "python3"
  },
  "language_info": {
   "codemirror_mode": {
    "name": "ipython",
    "version": 3
   },
   "file_extension": ".py",
   "mimetype": "text/x-python",
   "name": "python",
   "nbconvert_exporter": "python",
   "pygments_lexer": "ipython3",
   "version": "3.12.0"
  }
 },
 "nbformat": 4,
 "nbformat_minor": 2
}
