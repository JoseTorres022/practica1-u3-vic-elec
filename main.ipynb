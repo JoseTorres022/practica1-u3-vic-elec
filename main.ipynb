{
 "cells": [
  {
   "cell_type": "code",
   "execution_count": null,
   "metadata": {},
   "outputs": [],
   "source": [
    "#1. Contexto del análisis"
   ]
  },
  {
   "cell_type": "code",
   "execution_count": null,
   "metadata": {},
   "outputs": [],
   "source": [
    "#2. El set de datps\n",
    "'''La informacion recolectada se encuantra en un archivo CSV\n",
    "(vic_elec_125256) con 54688 filas y 5 columnas'''"
   ]
  },
  {
   "cell_type": "code",
   "execution_count": 4,
   "metadata": {},
   "outputs": [],
   "source": [
    "#3. Primera mirada al dataset\n",
    "# Importamos librerias/modulos para EDA\n",
    "import pandas as pd\n",
    "import matplotlib.pyplot as plt\n",
    "import seaborn as sns"
   ]
  },
  {
   "cell_type": "code",
   "execution_count": 5,
   "metadata": {},
   "outputs": [],
   "source": [
    "#Leyendo el CSV\n",
    "ruta=\"./src/docs/vic_elec_125256.csv\"\n",
    "data=pd.read_csv(ruta)"
   ]
  },
  {
   "cell_type": "code",
   "execution_count": null,
   "metadata": {},
   "outputs": [],
   "source": [
    "#Mostrar el dataset\n",
    "print(data.shape)\n",
    "data.head()"
   ]
  },
  {
   "cell_type": "code",
   "execution_count": 15,
   "metadata": {},
   "outputs": [
    {
     "name": "stdout",
     "output_type": "stream",
     "text": [
      "<class 'pandas.core.frame.DataFrame'>\n",
      "RangeIndex: 52608 entries, 0 to 52607\n",
      "Data columns (total 5 columns):\n",
      " #   Column       Non-Null Count  Dtype  \n",
      "---  ------       --------------  -----  \n",
      " 0   Time         52608 non-null  object \n",
      " 1   Demand       52608 non-null  float64\n",
      " 2   Temperature  52608 non-null  float64\n",
      " 3   Date         52608 non-null  object \n",
      " 4   Holiday      52608 non-null  bool   \n",
      "dtypes: bool(1), float64(2), object(2)\n",
      "memory usage: 1.7+ MB\n"
     ]
    }
   ],
   "source": [
    "#Veamos las varialbes categoricas y las numericas\n",
    "data.info()"
   ]
  },
  {
   "cell_type": "code",
   "execution_count": null,
   "metadata": {},
   "outputs": [],
   "source": [
    "#4. Limpieza del dataset\n",
    "'''Se realizara el proceso de limpieza teniendo encuanta las situaciones comunes:\n",
    "1. Datos faltantes en algunas celdas.\n",
    "2. Columnas irrelevantes (ques no corresponden al problema que queremos resolver)\n",
    "3. Registros (filas) repetidos.\n",
    "4. Valores estremos (outliers) en el caso de las variables numericas. Se deben\n",
    "analizar en detalle pues no necesariamente la soulucion es eliminarlos.\n",
    "5. Errore tipograficos en el caso de las variabe categoriccas.\n",
    "\n",
    "Se supone que, al final de este proceso de limpieza deberiamos tener un set de datos\n",
    "integro, listo para la fase de Análisis Exploratorio.\n",
    "'''"
   ]
  },
  {
   "cell_type": "code",
   "execution_count": 16,
   "metadata": {},
   "outputs": [
    {
     "name": "stdout",
     "output_type": "stream",
     "text": [
      "<class 'pandas.core.frame.DataFrame'>\n",
      "RangeIndex: 52608 entries, 0 to 52607\n",
      "Data columns (total 5 columns):\n",
      " #   Column       Non-Null Count  Dtype  \n",
      "---  ------       --------------  -----  \n",
      " 0   Time         52608 non-null  object \n",
      " 1   Demand       52608 non-null  float64\n",
      " 2   Temperature  52608 non-null  float64\n",
      " 3   Date         52608 non-null  object \n",
      " 4   Holiday      52608 non-null  bool   \n",
      "dtypes: bool(1), float64(2), object(2)\n",
      "memory usage: 1.7+ MB\n"
     ]
    }
   ],
   "source": [
    "#4.1 Datos faltantes\n",
    "'''Aca comenzaremos viendo los datos que no esten comletos,\n",
    "pues no todas las columnas tienen la misma cantidad de registros.\n",
    "El numero totoal de registrs deberia ser 54,688.\n",
    "'''\n",
    "\n",
    "#Eliminar filas con celdas faltantes/vacias\n",
    "data.dropna(inplace=True)\n",
    "data.info()"
   ]
  },
  {
   "cell_type": "code",
   "execution_count": null,
   "metadata": {},
   "outputs": [],
   "source": [
    "#4.2 Columnas irrelevantes\n",
    "''''''"
   ]
  }
 ],
 "metadata": {
  "kernelspec": {
   "display_name": "practica1U3",
   "language": "python",
   "name": "python3"
  },
  "language_info": {
   "codemirror_mode": {
    "name": "ipython",
    "version": 3
   },
   "file_extension": ".py",
   "mimetype": "text/x-python",
   "name": "python",
   "nbconvert_exporter": "python",
   "pygments_lexer": "ipython3",
   "version": "3.12.0"
  }
 },
 "nbformat": 4,
 "nbformat_minor": 2
}
